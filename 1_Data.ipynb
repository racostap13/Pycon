{
 "cells": [
  {
   "cell_type": "markdown",
   "metadata": {},
   "source": [
    "# Introduction\n",
    "## SBA - Small Business Profiles for the States and Territories\n",
    "\n",
    "The Office of Advocacy’s Small Business Profiles are an annual analysis of each state’s small business activities. Each profile gathers the latest information from key federal data-gathering agencies to provide a snapshot of small business health and economic activity. This year’s profiles report on state economic growth and employment; small business employment, industry composition, and turnover; plus business owner demographics and county-level employment change. \n",
    "\n",
    "https://www.sba.gov/"
   ]
  },
  {
   "cell_type": "code",
   "execution_count": 1,
   "metadata": {},
   "outputs": [
    {
     "data": {
      "text/html": [
       "<style> .container {width:96% !important;}</style>"
      ],
      "text/plain": [
       "<IPython.core.display.HTML object>"
      ]
     },
     "metadata": {},
     "output_type": "display_data"
    }
   ],
   "source": [
    "from IPython.core.display import display, HTML\n",
    "display(HTML(\"\"\"<style> .container {width:96% !important;}</style>\"\"\"))\n",
    "\n",
    "from IPython.display import IFrame"
   ]
  },
  {
   "cell_type": "code",
   "execution_count": 2,
   "metadata": {},
   "outputs": [],
   "source": [
    "import pandas as pd\n",
    "import multiprocessing\n",
    "import numpy as np\n",
    "from multiprocessing.dummy import Pool as ThreadPool\n",
    "from functools import partial\n",
    "import math\n",
    "\n",
    "# Handle s3 or local\n",
    "import s3fs\n",
    "from os import listdir\n",
    "from os.path import isfile, join\n",
    "import subprocess"
   ]
  },
  {
   "cell_type": "markdown",
   "metadata": {},
   "source": [
    "# Dataset\n",
    "This Dataset from the U.S. Small Business Administration (SBA) can be download from this website\n",
    "\n",
    "https://www.sba.gov/advocacy/small-business-profiles-states-and-territories-2016\n",
    "\n",
    "# Experiment:\n",
    "Assess the pros and cons of the most popular libraries to read pdf's\n",
    "\n",
    "# Packages\n",
    "\n",
    "pyPDF2\n",
    "\n",
    "tabula-py\n",
    "\n",
    "pdfquery\n"
   ]
  },
  {
   "cell_type": "markdown",
   "metadata": {},
   "source": [
    "# Downloading the PDF's"
   ]
  },
  {
   "cell_type": "code",
   "execution_count": 3,
   "metadata": {},
   "outputs": [],
   "source": [
    "import requests\n",
    "from bs4 import BeautifulSoup"
   ]
  },
  {
   "cell_type": "code",
   "execution_count": 4,
   "metadata": {},
   "outputs": [],
   "source": [
    "website = 'https://www.sba.gov/advocacy/small-business-profiles-states-and-territories-2016'\n",
    "web = requests.get(website)"
   ]
  },
  {
   "cell_type": "code",
   "execution_count": 5,
   "metadata": {},
   "outputs": [],
   "source": [
    "text = BeautifulSoup(web.text, 'html.parser')"
   ]
  },
  {
   "cell_type": "code",
   "execution_count": 6,
   "metadata": {},
   "outputs": [
    {
     "data": {
      "text/plain": [
       "['https://www.sba.gov/sites/default/files/advocacy/all_profiles_10_18_16.pdf',\n",
       " 'https://www.sba.gov/sites/default/files/advocacy/United_States.pdf',\n",
       " 'https://www.sba.gov/sites/default/files/advocacy/Alabama.pdf',\n",
       " 'https://www.sba.gov/sites/default/files/advocacy/Alaska.pdf',\n",
       " 'https://www.sba.gov/sites/default/files/advocacy/Arizona.pdf']"
      ]
     },
     "execution_count": 6,
     "metadata": {},
     "output_type": "execute_result"
    }
   ],
   "source": [
    "links = []\n",
    "for p in text.select('p'):\n",
    "    tag = str(p.find('a'))\n",
    "    if 'https' in tag:\n",
    "        link = [i for i in tag.split('\"') if 'https' in i][0]\n",
    "        links.append(link)\n",
    "    \n",
    "links[:5]"
   ]
  },
  {
   "cell_type": "code",
   "execution_count": 7,
   "metadata": {},
   "outputs": [
    {
     "data": {
      "text/plain": [
       "('Alabama.pdf', <httplib.HTTPMessage instance at 0x7f2335f783f8>)"
      ]
     },
     "execution_count": 7,
     "metadata": {},
     "output_type": "execute_result"
    }
   ],
   "source": [
    "import urllib\n",
    "from subprocess import call\n",
    "pdf = urllib.URLopener()\n",
    "pdf.retrieve('https://www.sba.gov/sites/default/files/advocacy/Alabama.pdf', \"Alabama.pdf\")"
   ]
  },
  {
   "cell_type": "code",
   "execution_count": 8,
   "metadata": {},
   "outputs": [
    {
     "name": "stdout",
     "output_type": "stream",
     "text": [
      "all_profiles_10_18_16.pdf\n",
      "United_States.pdf\n",
      "Alabama.pdf\n",
      "Alaska.pdf\n",
      "Arizona.pdf\n",
      "Arkansas.pdf\n",
      "California.pdf\n",
      "Colorado.pdf\n",
      "Connecticut.pdf\n",
      "Delaware.pdf\n",
      "District_of_Columbia.pdf\n",
      "Florida.pdf\n",
      "Georgia.pdf\n",
      "Hawaii.pdf\n",
      "Idaho.pdf\n",
      "Illinois.pdf\n",
      "Indiana.pdf\n",
      "Iowa.pdf\n",
      "Kansas.pdf\n",
      "Kentucky.pdf\n",
      "Louisiana.pdf\n",
      "Maine.pdf\n",
      "Maryland.pdf\n",
      "Massachusetts.pdf\n",
      "Michigan.pdf\n",
      "Minnesota.pdf\n",
      "Mississippi.pdf\n",
      "Missouri.pdf\n",
      "Montana.pdf\n",
      "Nebraska.pdf\n",
      "Nevada.pdf\n",
      "New_Hampshire.pdf\n",
      "New_Jersey.pdf\n",
      "New_Mexico.pdf\n",
      "New_York.pdf\n",
      "North_Carolina.pdf\n",
      "North_Dakota.pdf\n",
      "Ohio.pdf\n",
      "Oklahoma.pdf\n",
      "Oregon.pdf\n",
      "Pennsylvania.pdf\n",
      "Rhode_Island.pdf\n",
      "South_Carolina.pdf\n",
      "South_Dakota.pdf\n",
      "Tennessee.pdf\n",
      "Texas.pdf\n",
      "Utah.pdf\n",
      "Vermont.pdf\n",
      "Virginia.pdf\n",
      "Washington.pdf\n",
      "West_Virginia.pdf\n",
      "Wisconsin.pdf\n",
      "Wyoming.pdf\n",
      "US_Territories.pdf\n",
      "American_Samoa.pdf\n",
      "Guam.pdf\n",
      "Northern_Marianas.pdf\n",
      "Puerto_Rico.pdf\n",
      "US_Virgin_Islands.pdf\n",
      "SBP_FAQ_FIN.pdf\n"
     ]
    }
   ],
   "source": [
    "for link in links:\n",
    "    f = link.split('/')[-1]\n",
    "#     pdf.retrieve(link, f)\n",
    "    print f"
   ]
  },
  {
   "cell_type": "markdown",
   "metadata": {},
   "source": [
    "## The pdfs"
   ]
  },
  {
   "cell_type": "code",
   "execution_count": 9,
   "metadata": {},
   "outputs": [],
   "source": [
    "# from IPython.display import IFrame\n",
    "# IFrame(\"United_States.pdf\", width=1000, height=800)"
   ]
  },
  {
   "cell_type": "markdown",
   "metadata": {},
   "source": [
    "![alt text](Pages_1-2.png)"
   ]
  },
  {
   "cell_type": "markdown",
   "metadata": {},
   "source": [
    " "
   ]
  },
  {
   "cell_type": "markdown",
   "metadata": {},
   "source": [
    "![alt text](Pages_3-4.png)"
   ]
  },
  {
   "cell_type": "markdown",
   "metadata": {},
   "source": [
    "## Path to the files"
   ]
  },
  {
   "cell_type": "code",
   "execution_count": 10,
   "metadata": {},
   "outputs": [],
   "source": [
    "import sys\n",
    "sys.path.insert(0,'../')\n",
    "from Tools.paths import *"
   ]
  },
  {
   "cell_type": "code",
   "execution_count": 11,
   "metadata": {},
   "outputs": [],
   "source": [
    "def list_files(path,ext = 'pdf'):\n",
    "    if path.startswith('s3://'):  \n",
    "        onlyfiles = subprocess.check_output(['aws', 's3', 'ls', path_s3])\n",
    "        onlyfiles = onlyfiles.split('\\n')\n",
    "        onlyfiles = [f.split(\" \")[-1] for f in onlyfiles]\n",
    "    else:\n",
    "        onlyfiles = [f for f in listdir(path_local) if isfile(join(path_local, f))]\n",
    "    onlyfiles = [f for f in onlyfiles if f.endswith('.{}'.format(ext))]\n",
    "    files = [f.replace('.{}'.format(ext),'') for f in onlyfiles]\n",
    "    return files"
   ]
  },
  {
   "cell_type": "code",
   "execution_count": 12,
   "metadata": {},
   "outputs": [],
   "source": [
    "def path(path,name,ext = 'pdf'):\n",
    "    path_file = '{}{}.{}'.format(path,name,ext)\n",
    "    return path_file"
   ]
  },
  {
   "cell_type": "code",
   "execution_count": 13,
   "metadata": {},
   "outputs": [
    {
     "data": {
      "text/plain": [
       "['Alabama',\n",
       " 'Alaska',\n",
       " 'American_Samoa',\n",
       " 'Arizona',\n",
       " 'Arkansas',\n",
       " 'California',\n",
       " 'Colorado',\n",
       " 'Connecticut',\n",
       " 'Delaware',\n",
       " 'District_of_Columbia',\n",
       " 'Florida',\n",
       " 'Georgia',\n",
       " 'Guam',\n",
       " 'Hawaii',\n",
       " 'Idaho',\n",
       " 'Illinois',\n",
       " 'Indiana',\n",
       " 'Iowa',\n",
       " 'Kansas',\n",
       " 'Kentucky',\n",
       " 'Louisiana',\n",
       " 'Maine',\n",
       " 'Maryland',\n",
       " 'Massachusetts',\n",
       " 'Michigan',\n",
       " 'Minnesota',\n",
       " 'Mississippi',\n",
       " 'Missouri',\n",
       " 'Montana',\n",
       " 'Nebraska',\n",
       " 'Nevada',\n",
       " 'New_Hampshire',\n",
       " 'New_Jersey',\n",
       " 'New_Mexico',\n",
       " 'New_York',\n",
       " 'North_Carolina',\n",
       " 'North_Dakota',\n",
       " 'Northern_Marianas',\n",
       " 'Ohio',\n",
       " 'Oklahoma',\n",
       " 'Oregon',\n",
       " 'Pennsylvania',\n",
       " 'Puerto_Rico',\n",
       " 'Rhode_Island',\n",
       " 'SBP_FAQ_FIN',\n",
       " 'South_Carolina',\n",
       " 'South_Dakota',\n",
       " 'Tennessee',\n",
       " 'Texas',\n",
       " 'US_Territories',\n",
       " 'US_Virgin_Islands',\n",
       " 'United_States',\n",
       " 'Utah',\n",
       " 'Vermont',\n",
       " 'Virginia',\n",
       " 'Washington',\n",
       " 'West_Virginia',\n",
       " 'Wisconsin',\n",
       " 'Wyoming',\n",
       " 'all_profiles_10_18_16']"
      ]
     },
     "execution_count": 13,
     "metadata": {},
     "output_type": "execute_result"
    }
   ],
   "source": [
    "list_files(path_s3)"
   ]
  },
  {
   "cell_type": "code",
   "execution_count": null,
   "metadata": {},
   "outputs": [],
   "source": []
  }
 ],
 "metadata": {
  "kernelspec": {
   "display_name": "Python 2",
   "language": "python",
   "name": "python2"
  },
  "language_info": {
   "codemirror_mode": {
    "name": "ipython",
    "version": 2
   },
   "file_extension": ".py",
   "mimetype": "text/x-python",
   "name": "python",
   "nbconvert_exporter": "python",
   "pygments_lexer": "ipython2",
   "version": "2.7.14"
  }
 },
 "nbformat": 4,
 "nbformat_minor": 2
}
