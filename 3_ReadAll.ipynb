{
 "cells": [
  {
   "cell_type": "markdown",
   "metadata": {},
   "source": [
    "# Introduction\n",
    "## SBA - Small Business Profiles for the States and Territories\n",
    "\n",
    "The Office of Advocacy’s Small Business Profiles are an annual analysis of each state’s small business activities. Each profile gathers the latest information from key federal data-gathering agencies to provide a snapshot of small business health and economic activity. This year’s profiles report on state economic growth and employment; small business employment, industry composition, and turnover; plus business owner demographics and county-level employment change. \n",
    "\n",
    "https://www.sba.gov/"
   ]
  },
  {
   "cell_type": "code",
   "execution_count": 1,
   "metadata": {},
   "outputs": [
    {
     "data": {
      "text/html": [
       "<style> .container {width:96% !important;}</style>"
      ],
      "text/plain": [
       "<IPython.core.display.HTML object>"
      ]
     },
     "metadata": {},
     "output_type": "display_data"
    }
   ],
   "source": [
    "from IPython.core.display import display, HTML\n",
    "display(HTML(\"\"\"<style> .container {width:96% !important;}</style>\"\"\"))\n",
    "\n",
    "from IPython.display import IFrame"
   ]
  },
  {
   "cell_type": "code",
   "execution_count": 2,
   "metadata": {},
   "outputs": [],
   "source": [
    "import pandas as pd\n",
    "import multiprocessing\n",
    "import numpy as np\n",
    "from multiprocessing.dummy import Pool as ThreadPool\n",
    "from functools import partial\n",
    "import math\n",
    "\n",
    "# Handle s3 or local\n",
    "import s3fs\n",
    "from os import listdir\n",
    "from os.path import isfile, join\n",
    "import subprocess"
   ]
  },
  {
   "cell_type": "markdown",
   "metadata": {},
   "source": [
    "## Path to the files"
   ]
  },
  {
   "cell_type": "code",
   "execution_count": 3,
   "metadata": {},
   "outputs": [],
   "source": [
    "import sys\n",
    "sys.path.insert(0,'../')\n",
    "from Tools.paths import *"
   ]
  },
  {
   "cell_type": "code",
   "execution_count": 4,
   "metadata": {},
   "outputs": [],
   "source": [
    "def list_files(path,ext = 'pdf'):\n",
    "    if path.startswith('s3://'):  \n",
    "        onlyfiles = subprocess.check_output(['aws', 's3', 'ls', path_s3])\n",
    "        onlyfiles = onlyfiles.split('\\n')\n",
    "        onlyfiles = [f.split(\" \")[-1] for f in onlyfiles]\n",
    "    else:\n",
    "        onlyfiles = [f for f in listdir(path_local) if isfile(join(path_local, f))]\n",
    "    onlyfiles = [f for f in onlyfiles if f.endswith('.{}'.format(ext))]\n",
    "    files = [f.replace('.{}'.format(ext),'') for f in onlyfiles]\n",
    "    return files"
   ]
  },
  {
   "cell_type": "code",
   "execution_count": 5,
   "metadata": {},
   "outputs": [],
   "source": [
    "def path(path,name,ext = 'pdf'):\n",
    "    path_file = '{}{}.{}'.format(path,name,ext)\n",
    "    return path_file"
   ]
  },
  {
   "cell_type": "markdown",
   "metadata": {},
   "source": [
    "## Loading the file with pdf_query\n",
    "\n",
    "PDFQuery is a light wrapper around pdfminer, lxml and pyquery. It's designed to reliably extract data from sets of PDFs with as little code as possible."
   ]
  },
  {
   "cell_type": "code",
   "execution_count": 6,
   "metadata": {},
   "outputs": [],
   "source": [
    "import pdfquery"
   ]
  },
  {
   "cell_type": "code",
   "execution_count": 7,
   "metadata": {},
   "outputs": [],
   "source": [
    "def load_pdf(path_file):\n",
    "    if path_file.startswith('s3://'):  \n",
    "        fs = s3fs.S3FileSystem()\n",
    "        with fs.open(path_file, 'rb') as fp_in:\n",
    "            pdf = pdfquery.PDFQuery(fp_in)\n",
    "            pdf.load()\n",
    "    else:\n",
    "        pdf = pdfquery.PDFQuery(path_file)\n",
    "        pdf.load()        \n",
    "    return pdf"
   ]
  },
  {
   "cell_type": "code",
   "execution_count": 8,
   "metadata": {},
   "outputs": [],
   "source": [
    "def getCoordinates(pdf,query, type_search = \"Line\"):\n",
    "        name = pdf.pq('LTText%sHorizontal:contains(\"%s\")' % (type_search,query))\n",
    "        for n in name:\n",
    "            d = dict()\n",
    "            d[\"left_corner\"] = math.floor(float(n.layout.x0)* 1000)/1000.0\n",
    "            d[\"bottom_corner\"] = math.floor(float(n.layout.y0)* 1000)/1000.0\n",
    "            d[\"right_corner\"] = math.ceil(float(n.layout.x1)* 1000)/1000.0\n",
    "            d[\"upper_corner\"] = math.ceil(float(n.layout.y1)* 1000)/1000.0\n",
    "            d[\"text\"] = n.layout.get_text()\n",
    "            d[\"pageid\"] = int(float(n.iterancestors('LTPage').next().layout.pageid))\n",
    "            yield d"
   ]
  },
  {
   "cell_type": "code",
   "execution_count": 9,
   "metadata": {},
   "outputs": [],
   "source": [
    "def getTable(file_pdf, col_width, row_space, row_height,title,bottom_corner_dif,headers,col_left_align):\n",
    "    \n",
    "    table = list()\n",
    "    table.append(headers)\n",
    "    \n",
    "    g = getCoordinates(pdf=file_pdf,query=title,type_search=\"Line\")\n",
    "    d = next(g,None)\n",
    "    \n",
    "    pageid = d['pageid']\n",
    "    bottom_corner = d['bottom_corner'] - bottom_corner_dif\n",
    "\n",
    "    while 1:\n",
    "        columns = (c for c in xrange(len(headers)))\n",
    "        boxes = list()\n",
    "        for c in columns:\n",
    "            boxes.append(tuple(('col_%s' %(c),\n",
    "                               'LTPage[pageid=\"%s\"] LTTextLineHorizontal:overlaps_bbox(\"%f,%f,%f,%f\")' % (pageid,\n",
    "                                                                                                          col_left_align[c],\n",
    "                                                                                                          bottom_corner,\n",
    "                                                                                                          col_left_align[c]+col_width,\n",
    "                                                                                                          bottom_corner+row_height))))\n",
    "\n",
    "\n",
    "\n",
    "        columns = [c for c in xrange(len(headers))]\n",
    "        row = file_pdf.extract(boxes)\n",
    "        columns = [row['col_{}'.format(c)].text() for c in columns]\n",
    "        table.append(columns)\n",
    "        if 'Total' in row['col_0'].text():\n",
    "            break\n",
    "\n",
    "        bottom_corner -= row_space\n",
    "    return table"
   ]
  },
  {
   "cell_type": "code",
   "execution_count": 10,
   "metadata": {},
   "outputs": [],
   "source": [
    "def info1(file_pdf):\n",
    "    col_right_align = 300\n",
    "    DemographicGroup = ['American-owned',\n",
    "                        'Asian-owned',\n",
    "                        'Islander-owned',\n",
    "                        'Hispanic-owned',\n",
    "                        'Alaskan-owned',\n",
    "                        'Minority-owned',\n",
    "                        'Nonminority-owned']    \n",
    "    \n",
    "    DemographicInfo = [('with_formatter', 'text')]\n",
    "    \n",
    "    for dg in DemographicGroup:\n",
    "        g = getCoordinates(pdf=file_pdf,query=dg,type_search=\"Line\")\n",
    "        d = next(g,None)\n",
    "        DemographicInfo.append(tuple((dg,'LTTextLineHorizontal:in_bbox(\"%f,%f,%f,%f\")'%(d[\"left_corner\"],\n",
    "                                                                                        d[\"bottom_corner\"],\n",
    "                                                                                        col_right_align,\n",
    "                                                                                        d[\"upper_corner\"]))))\n",
    "    info = file_pdf.extract(DemographicInfo)\n",
    "    return info"
   ]
  },
  {
   "cell_type": "code",
   "execution_count": 11,
   "metadata": {},
   "outputs": [],
   "source": [
    "def info2(file_pdf):\n",
    "    col_width = 35\n",
    "    col_left_align = [50,295,371,449,532]\n",
    "    row_space = 16.78\n",
    "    row_height = 14\n",
    "    bottom_corner_dif = 126.91\n",
    "    headers = ['Industry',\n",
    "                '1-499 Employees',\n",
    "                '1-19 Employees',\n",
    "                'Nonemployer Firms',\n",
    "                'Total Small Firms'] \n",
    "\n",
    "    table = getTable(col_left_align=col_left_align,\n",
    "                     col_width=col_width,\n",
    "                     file_pdf=file_pdf,\n",
    "                     headers=headers,\n",
    "                     row_height=row_height,\n",
    "                     row_space = row_space,\n",
    "                     bottom_corner_dif=bottom_corner_dif,\n",
    "                     title = \"Table 1\")\n",
    "    \n",
    "    table.pop(0)\n",
    "    df = pd.DataFrame(table,columns=headers)\n",
    "                     \n",
    "    return df"
   ]
  },
  {
   "cell_type": "code",
   "execution_count": 12,
   "metadata": {},
   "outputs": [],
   "source": [
    "def info3(file_pdf):\n",
    "    col_width = 35\n",
    "    col_left_align = [50,325,400,532]\n",
    "    row_space = 13.6\n",
    "    row_height = 12.4\n",
    "    bottom_corner_dif = 115.5\n",
    "\n",
    "    headers = ['Industry',\n",
    "               'Small Business Employment',\n",
    "               'Total Private Employment',\n",
    "               'Small Business Emp Share']    \n",
    "    \n",
    "    table = getTable(col_left_align=col_left_align,\n",
    "                     col_width=col_width,\n",
    "                     file_pdf=file_pdf,\n",
    "                     headers=headers,\n",
    "                     row_height=row_height,\n",
    "                     row_space = row_space,\n",
    "                     bottom_corner_dif=bottom_corner_dif,\n",
    "                     title = \"Table 2\")\n",
    "    table.pop(0)\n",
    "    df = pd.DataFrame(table,columns=headers)\n",
    "\n",
    "    return df"
   ]
  },
  {
   "cell_type": "markdown",
   "metadata": {},
   "source": [
    "### How about several pdf's at the same time?"
   ]
  },
  {
   "cell_type": "code",
   "execution_count": 13,
   "metadata": {},
   "outputs": [],
   "source": [
    "def process_file(path_file):\n",
    "    file_pdf = load_pdf(path_file)\n",
    "    d = dict()\n",
    "    d['file'] = path_file.split('/')[-1]\n",
    "    d.update(info1(file_pdf))\n",
    "    x = info2(file_pdf)\n",
    "    d['industry'] = x\n",
    "    x = info3(file_pdf)\n",
    "    d['employment'] = x\n",
    "    return d"
   ]
  },
  {
   "cell_type": "code",
   "execution_count": 14,
   "metadata": {},
   "outputs": [],
   "source": [
    "# https://stackoverflow.com/questions/29494001/how-can-i-abort-a-task-in-a-multiprocessing-pool-after-a-timeout\n",
    "def abortable_worker(func, *args, **kwargs):\n",
    "    timeout = kwargs.get('timeout', None)\n",
    "    p = ThreadPool(1)\n",
    "    res = p.apply_async(func, args=args)\n",
    "    try:\n",
    "        out = res.get(timeout)  # Wait timeout seconds for func to complete.\n",
    "        return out\n",
    "    except multiprocessing.TimeoutError:\n",
    "        print(\"Aborting due to timeout \")\n",
    "        p.terminate()\n",
    "        raise"
   ]
  },
  {
   "cell_type": "code",
   "execution_count": 15,
   "metadata": {},
   "outputs": [
    {
     "name": "stdout",
     "output_type": "stream",
     "text": [
      "Alabama\n",
      "Alaska\n",
      "American_Samoa\n",
      "Arizona\n",
      "Arkansas\n",
      "{'Nonminority-owned': 'Nonminority-owned l -8.6%', 'Minority-owned': 'Minority-owned l 30.7%', 'Alaskan-owned': 'Native American/Alaskan-owned l 27.0%', 'Hispanic-owned': 'Hispanic-owned l 51.5%', 'Islander-owned': u'Hawaiian/Paci\\ufb01c Islander-owned l -16.9%', 'industry':                                            Industry 1-499 Employees  \\\n",
      "0                                      Retail Trade          10,674   \n",
      "1     Other Services (except Public Administration)          10,042   \n",
      "2   Professional, Scientiﬁc, and Technical Services           8,081   \n",
      "3                 Health Care and Social Assistance           7,823   \n",
      "4                                      Construction           7,143   \n",
      "5                   Accommodation and Food Services           5,525   \n",
      "6                                   Wholesale Trade           3,785   \n",
      "7                                     Manufacturing           3,377   \n",
      "8     Administrative, Support, and Waste Management           3,355   \n",
      "9                             Finance and Insurance           2,916   \n",
      "10               Real Estate and Rental and Leasing           2,799   \n",
      "11                   Transportation and Warehousing           2,197   \n",
      "12              Arts, Entertainment, and Recreation           1,003   \n",
      "13       Agriculture, Forestry, Fishing and Hunting             768   \n",
      "14                             Educational Services             746   \n",
      "15                                      Information             617   \n",
      "16    Mining, Quarrying, and Oil and Gas Extraction             149   \n",
      "17                                        Utilities              92   \n",
      "18                                            Total          71,092   \n",
      "\n",
      "   1-19 Employees Nonemployer Firms Total Small Firms  \n",
      "0           9,627            27,992            38,666  \n",
      "1           9,332            63,575            73,617  \n",
      "2           7,378            31,099            39,180  \n",
      "3           6,670            21,808            29,631  \n",
      "4           6,373            39,463            46,606  \n",
      "5           4,255             4,889            10,414  \n",
      "6           2,974             5,061             8,846  \n",
      "7           2,349             4,425             7,802  \n",
      "8           2,842            37,265            40,620  \n",
      "9           2,582             7,842            10,758  \n",
      "10          2,590            29,081            31,880  \n",
      "11          1,834            12,669            14,866  \n",
      "12            860            11,253            12,256  \n",
      "13            715             4,378             5,146  \n",
      "14            574             6,894             7,640  \n",
      "15            489             2,930             3,547  \n",
      "16            103               698               847  \n",
      "17             64               256               348  \n",
      "18         61,611           311,578           382,670  , 'file': 'Alabama.pdf', 'American-owned': 'African American-owned l 28.7%', 'Asian-owned': 'Asian-owned l 35.4%', 'employment':                                            Industry Small Business Employment  \\\n",
      "0                 Health Care and Social Assistance                   113,580   \n",
      "1                   Accommodation and Food Services                    89,707   \n",
      "2                                      Retail Trade                    87,257   \n",
      "3                                     Manufacturing                    79,632   \n",
      "4     Other Services (except Public Administration)                    68,770   \n",
      "5                                      Construction                    65,147   \n",
      "6   Professional, Scientiﬁc, and Technical Services                    57,856   \n",
      "7     Administrative, Support, and Waste Management                    44,577   \n",
      "8                                   Wholesale Trade                    44,232   \n",
      "9                             Finance and Insurance                    24,832   \n",
      "10                   Transportation and Warehousing                    24,484   \n",
      "11               Real Estate and Rental and Leasing                    15,577   \n",
      "12                             Educational Services                    13,791   \n",
      "13              Arts, Entertainment, and Recreation                    11,858   \n",
      "14                                      Information                     9,854   \n",
      "15       Agriculture, Forestry, Fishing and Hunting                     5,622   \n",
      "16    Mining, Quarrying, and Oil and Gas Extraction                     2,650   \n",
      "17                                        Utilities                     2,094   \n",
      "18                                            Total                   761,520   \n",
      "\n",
      "   Total Private Employment Small Business Emp Share  \n",
      "0                   240,549                    47.2%  \n",
      "1                   161,421                    55.6%  \n",
      "2                   222,277                    39.3%  \n",
      "3                   242,093                    32.9%  \n",
      "4                    80,073                    85.9%  \n",
      "5                    78,318                    83.2%  \n",
      "6                    92,520                    62.5%  \n",
      "7                   133,720                    33.3%  \n",
      "8                    72,175                    61.3%  \n",
      "9                    69,332                    35.8%  \n",
      "10                   58,471                    41.9%  \n",
      "11                   23,257                    67.0%  \n",
      "12                   28,969                    47.6%  \n",
      "13                   17,165                    69.1%  \n",
      "14                   34,447                    28.6%  \n",
      "15                    6,356                    88.5%  \n",
      "16                    7,942                    33.4%  \n",
      "17                   17,238                    12.1%  \n",
      "18                1,586,323                    48.0%  }\n",
      "CPU times: user 44 ms, sys: 12 ms, total: 56 ms\n",
      "Wall time: 15.5 s\n"
     ]
    }
   ],
   "source": [
    "%%time\n",
    "if __name__ == '__main__':    \n",
    "    result = list()\n",
    "    pool = multiprocessing.Pool(maxtasksperchild=1)\n",
    "    files = list_files(path_s3)\n",
    "    files = files[0:5]\n",
    "    for i in files:\n",
    "        abortable_func = partial(abortable_worker, process_file, timeout=60)\n",
    "        path_file = path(path_s3,i)\n",
    "        pool.apply_async(abortable_func, args=(path_file, ), callback=result.append)\n",
    "        print i\n",
    "    pool.close()\n",
    "    pool.join()\n",
    "    print result[0]"
   ]
  }
 ],
 "metadata": {
  "kernelspec": {
   "display_name": "Python 2",
   "language": "python",
   "name": "python2"
  },
  "language_info": {
   "codemirror_mode": {
    "name": "ipython",
    "version": 2
   },
   "file_extension": ".py",
   "mimetype": "text/x-python",
   "name": "python",
   "nbconvert_exporter": "python",
   "pygments_lexer": "ipython2",
   "version": "2.7.14"
  }
 },
 "nbformat": 4,
 "nbformat_minor": 2
}
