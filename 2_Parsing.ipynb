{
 "cells": [
  {
   "cell_type": "markdown",
   "metadata": {},
   "source": [
    "# Introduction\n",
    "## SBA - Small Business Profiles for the States and Territories\n",
    "\n",
    "The Office of Advocacy’s Small Business Profiles are an annual analysis of each state’s small business activities. Each profile gathers the latest information from key federal data-gathering agencies to provide a snapshot of small business health and economic activity. This year’s profiles report on state economic growth and employment; small business employment, industry composition, and turnover; plus business owner demographics and county-level employment change. \n",
    "\n",
    "https://www.sba.gov/"
   ]
  },
  {
   "cell_type": "code",
   "execution_count": 1,
   "metadata": {},
   "outputs": [
    {
     "data": {
      "text/html": [
       "<style> .container {width:96% !important;}</style>"
      ],
      "text/plain": [
       "<IPython.core.display.HTML object>"
      ]
     },
     "metadata": {},
     "output_type": "display_data"
    }
   ],
   "source": [
    "from IPython.core.display import display, HTML\n",
    "display(HTML(\"\"\"<style> .container {width:96% !important;}</style>\"\"\"))\n",
    "\n",
    "from IPython.display import IFrame"
   ]
  },
  {
   "cell_type": "code",
   "execution_count": 2,
   "metadata": {},
   "outputs": [],
   "source": [
    "import pandas as pd\n",
    "import multiprocessing\n",
    "import numpy as np\n",
    "from multiprocessing.dummy import Pool as ThreadPool\n",
    "from functools import partial\n",
    "import math\n",
    "\n",
    "# Handle s3 or local\n",
    "import s3fs\n",
    "from os import listdir\n",
    "from os.path import isfile, join\n",
    "import subprocess"
   ]
  },
  {
   "cell_type": "markdown",
   "metadata": {},
   "source": [
    "## Path to the files"
   ]
  },
  {
   "cell_type": "code",
   "execution_count": 3,
   "metadata": {},
   "outputs": [],
   "source": [
    "import sys\n",
    "sys.path.insert(0,'../')\n",
    "from Tools.paths import *"
   ]
  },
  {
   "cell_type": "code",
   "execution_count": 4,
   "metadata": {},
   "outputs": [],
   "source": [
    "def list_files(path,ext = 'pdf'):\n",
    "    if path.startswith('s3://'):  \n",
    "        onlyfiles = subprocess.check_output(['aws', 's3', 'ls', path_s3])\n",
    "        onlyfiles = onlyfiles.split('\\n')\n",
    "        onlyfiles = [f.split(\" \")[-1] for f in onlyfiles]\n",
    "    else:\n",
    "        onlyfiles = [f for f in listdir(path_local) if isfile(join(path_local, f))]\n",
    "    onlyfiles = [f for f in onlyfiles if f.endswith('.{}'.format(ext))]\n",
    "    files = [f.replace('.{}'.format(ext),'') for f in onlyfiles]\n",
    "    return files"
   ]
  },
  {
   "cell_type": "code",
   "execution_count": 5,
   "metadata": {},
   "outputs": [],
   "source": [
    "def path(path,name,ext = 'pdf'):\n",
    "    path_file = '{}{}.{}'.format(path,name,ext)\n",
    "    return path_file"
   ]
  },
  {
   "cell_type": "markdown",
   "metadata": {},
   "source": [
    "## Loading the file with PyPDF"
   ]
  },
  {
   "cell_type": "code",
   "execution_count": 6,
   "metadata": {},
   "outputs": [],
   "source": [
    "import PyPDF2"
   ]
  },
  {
   "cell_type": "code",
   "execution_count": 7,
   "metadata": {},
   "outputs": [],
   "source": [
    "def load_pdf(path_file):\n",
    "    \n",
    "    def get_content(fp_in):\n",
    "        content = []\n",
    "        pdf = PyPDF2.PdfFileReader(fp_in)\n",
    "        number_of_pages = pdf.getNumPages()\n",
    "        for i in xrange(number_of_pages):\n",
    "            page = pdf.getPage(i).extractText().split()\n",
    "            content.append(page)\n",
    "        return content\n",
    "    \n",
    "    if path_file.startswith('s3://'):  \n",
    "        fs = s3fs.S3FileSystem()\n",
    "        with fs.open(path_file, 'rb') as fp_in:\n",
    "            content = get_content(fp_in)\n",
    "\n",
    "    else:\n",
    "        fp_in = file(path_file,'rb')\n",
    "        content = get_content(fp_in)\n",
    "\n",
    "    return content"
   ]
  },
  {
   "cell_type": "code",
   "execution_count": 8,
   "metadata": {},
   "outputs": [
    {
     "name": "stdout",
     "output_type": "stream",
     "text": [
      "CPU times: user 348 ms, sys: 28 ms, total: 376 ms\n",
      "Wall time: 1.49 s\n"
     ]
    }
   ],
   "source": [
    "%%time\n",
    "files = list_files(path_s3)[0]\n",
    "path_file = path(path_s3,files)\n",
    "file_pdf = load_pdf(path_file)"
   ]
  },
  {
   "cell_type": "code",
   "execution_count": 9,
   "metadata": {},
   "outputs": [
    {
     "name": "stdout",
     "output_type": "stream",
     "text": [
      "[u'AlabamaSmallBusiness,2016', u'5', u'SBAofAdvocacy', u'ALABAMA', u'382,524', u'SmallBusinesses', u'765,293', u'SmallBusinessEmployees', u'96.7%', u'ofAlabamaBusinesses', u'47.7%', u'ofAlabamaEmployees', u'EMPLOYMENT', u'5,734', u'netnewjobs', u'1', u'DIVERSITY', u'30.7%', u'increaseinminority', u'ownership', u'2', u'TRADE', u'81.2%', u'ofAlabamaexporters', u'3', u'O', u'VERALL', u'A', u'LABAMA', u'E', u'CONOMY', u'\\u0141', u'Inthethirdquarterof2015,Alabamagrewatanannualrateof', u'2.2%', u'whichwasfasterthantheoverallUSgrowthrateof', u'1.9%', u\".Bycomparison,Alabama's2014growthof\", u'3.6%', u'wasupfromthe2013levelof', u'3.1%', u'.(Source:', u'BEA', u')', u'\\u0141', u'Atthecloseof2015,unemploymentwas', u'6.3%', u',upfrom', u'6.1%', u'atthecloseof2014.Thiswasabovethenationalunem-', u'ploymentrateof', u'5.0%', u'.(Source:', u'CPS', u')', u'E', u'MPLOYMENT', u'\\u0141', u'Alabamasmallbusinessesemployed', u'765,293', u'people,or', u'47.7%', u'oftheprivateworkforce,in2013.(Source:', u'SUSB', u')', u'\\u0141', u'Firmswithfewerthan100employeeshavethelargestshare', u'ofsmallbusinessemployment.SeeFigure1forfurtherde-', u'tailsonmswithemployees.(Source:', u'SUSB', u')', u'\\u0141', u'Private-sectoremploymentincreased', u'1.3%', u'in2015.This', u\"wasbelowthepreviousyear'sincreaseof\", u'1.7%', u'.(Source:', u'CES', u')', u'\\u0141', u'Thenumberofproprietorsincreasedin2014by', u'1.4%', u'rela-', u'tivetothepreviousyear.(Source:', u'BEA', u')', u'\\u0141', u'Smallbusinessescreated', u'5,734', u'netjobsin2013.Among', u'thesevenBDSsize-classes,msemploying50to99em-', u'ployeesexperiencedthelargestgains,adding', u'3,417', u'net', u'jobs.Thelargestlosseswereinmsemploying250to499', u'employeeswhichlost', u'1,016', u'netjobs.(Source:', u'BDS', u')', u'Figure1:', u'AlabamaEmploymentbyFirmSize', u'17.0%', u'16.5%', u'14.3%', u'52.3%', u'1-19Employees', u'20-99Employees', u'100-499Employees', u'>500Employees', u'2013', u'0.0', u'500.0K', u'1.0M', u'1.5M', u'2000', u'2010', u'[', u\"TheSmallBusinessareproducedbytheUSSmallBusinessAdministration'sofAdvocacy.Eachreportincorporatesthemostup-\", u'to-dategovernmentdatatopresentauniquesnapshotofsmallbusinesses.', u'Smallbusinessesareasemployingfewerthan500', u'employees', u'.HyperlinkstodatasourcesandreportgenerationinformationareprovidedinTable3.', u'1,3', u'Netsmallbusinessjobschangeandexportersharearebasedonnewlyreleased2013BDSand2012ITAdata.', u'2', u'Diversitystatistictrackschangesbetween2007and2012basedontheSurveyofBusinessOwners(SBO)2015release.']\n",
      "\n",
      "\n",
      "[u'AlabamaSmallBusiness,2016', u'6', u'SBAofAdvocacy', u'I', u'NCOMEAND', u'F', u'INANCE', u'\\u0141', u'ThenumberofbanksreportedintheCallReportsbetweenJune2014andJune2015declined.(Source:', u'FDIC', u')', u'\\u0141', u'In2014,', u'53,528', u'loansunder$100,000(andvaluedat', u'$', u'887.3million', u')wereissuedbyAlabamalendinginstitutionsreporting', u'undertheCommunityReinvestmentAct.(Source:', u'FFIEC', u')', u'\\u0141', u'Themedianincome', u'4', u'forindividualswhowereself-employedattheirownincorporatedbusinesseswas', u'$', u'48,900', u'in2014.', u'Forindividualsself-employedattheirownunincorporatedms,thiswas', u'$', u'20,463', u'.(Source:', u'ACS', u')', u'[', u'4', u'Medianincomerepresentsearningsfromallsources.Unincorporatedself-employmentincomeincludesunpaidfamilyworkers,averysmall', u'percentoftheunincorporatedself-employed.', u'B', u'USINESS', u'O', u'WNER', u'D', u'EMOGRAPHICS', u'Figure2:', u'AlabamaChangesinBusiness', u'OwnershipbyDemographicGroup', u'AfricanAmerican-owned', u'28.7%', u'Asian-owned', u'35.4%', u'Hawaiian/PIslander-owned', u'-16.9%', u'Hispanic-owned', u'51.5%', u'NativeAmerican/Alaskan-owned', u'27.0%', u'Minority-owned', u'30.7%', u'Nonminority-owned', u'-8.6%', u'Figure3:', u'AlabamaSelf-Employmentwithin', u'DemographicGroup', u'5.7%', u'10.6%', u'5.2%', u'10.0%', u'Female', u'Male', u'Minority', u'Veteran', u'\\u0141', u'Figure2displaysthechangeinoverallmownershipforeachdemographicgroupfrom2007to2012basedonthe', u'SurveyofBusinessOwners(', u'SBO', u')forAlabama,releasedinDecember2015.', u'\\u0141', u'Figure3displaysthepercentofeachdemographicgroupasself-employedaccordingtothe2014American', u'CommunitySurvey(', u'ACS', u')5-yearestimates.', u'B', u'USINESS', u'T', u'URNOVER', u'\\u0141', u'Inthesecondquarterof2014,', u'2,270', u'establishments', u'startedup', u'5', u'inAlabamaand', u'2,376', u'exited.', u'6', u'Startupsgen-', u'erated', u'9,675', u'newjobswhileexitscaused', u'8,698', u'joblosses.', u'(Source:', u'BDM', u')', u'\\u0141', u'Figure4displaysstartupandexitratesfrom2005to2015.', u'Eachseriesissmoothedacrossmultiplequarterstohigh-', u'lightlong-runtrends.(Source:', u'BDM', u')', u'[', u'5', u'STARTUPS', u'arecountedwhenbusinessestablishmentshireatleast', u'oneemployeeforthetime.TheBLStermsthese', u'births', u',asdistinct', u'fromtheBLS', u'openings', u'categorywhichincludesseasonalre-openings.', u'6', u'EXITS', u'occurwhenestablishmentsgofromhavingatleastoneem-', u'ployeetohavingnone,andthenremainclosedforatleastayear.The', u'BLStermstheseevents', u'deaths', u',asdistinctfromthe', u'closings', u'category', u'whichincludesseasonalshutterings.', u'Figure4:', u'AlabamaPrivateStartupandExit', u'Rates', u'2.3%', u'2.4%', u'2.5%', u'2.6%', u'2.7%', u'2006', u'2009', u'2012', u'2015', u'exitrate', u'startuprate']\n",
      "\n",
      "\n",
      "[u'AlabamaSmallBusiness,2016', u'7', u'SBAofAdvocacy', u'I', u'NTERNATIONAL', u'T', u'RADE', u'\\u0141', u'Atotalof', u'3,964', u'companiesexportedgoodsfromAlabamain2013.Amongthese,', u'3,218', u',or', u'81.2%', u',weresmallms;they', u'generated', u'15.8%', u\"ofAlabama'stotalknownexportvalue.(Source:\", u'ITA', u')', u'S', u'MALL', u'B', u'USINESSESBY', u'I', u'NDUSTRY', u'Table1:', u'AlabamaSmallFirmsbyIndustry,2013', u'(sortedbysmallemployerms)', u'Industry', u'1\\u0152499', u'Employees', u'1\\u015219', u'Employees', u'Nonemployer', u'Firms', u'TotalSmall', u'Firms', u'RetailTrade', u'10,674', u'9,627', u'27,992', u'38,666', u'OtherServices(exceptPublicAdministration)', u'10,042', u'9,332', u'63,575', u'73,617', u'Professional,,andTechnicalServices', u'8,081', u'7,378', u'31,099', u'39,180', u'HealthCareandSocialAssistance', u'7,823', u'6,670', u'21,808', u'29,631', u'Construction', u'7,143', u'6,373', u'39,463', u'46,606', u'AccommodationandFoodServices', u'5,525', u'4,255', u'4,889', u'10,414', u'WholesaleTrade', u'3,785', u'2,974', u'5,061', u'8,846', u'Manufacturing', u'3,377', u'2,349', u'4,425', u'7,802', u'Administrative,Support,andWasteManagement', u'3,355', u'2,842', u'37,265', u'40,620', u'FinanceandInsurance', u'2,916', u'2,582', u'7,842', u'10,758', u'RealEstateandRentalandLeasing', u'2,799', u'2,590', u'29,081', u'31,880', u'TransportationandWarehousing', u'2,197', u'1,834', u'12,669', u'14,866', u'Arts,Entertainment,andRecreation', u'1,003', u'860', u'11,253', u'12,256', u'Agriculture,Forestry,FishingandHunting', u'768', u'715', u'4,378', u'5,146', u'EducationalServices', u'746', u'574', u'6,894', u'7,640', u'Information', u'617', u'489', u'2,930', u'3,547', u'Mining,Quarrying,andOilandGasExtraction', u'149', u'103', u'698', u'847', u'Utilities', u'92', u'64', u'256', u'348', u'Total', u'71,092', u'61,611', u'311,578', u'382,670', u'[', u\"TotalsforTables1and2differfromSUSB'sstatewidetalliesduetomswithestablishmentsinmorethanoneindustryandtheomissionofindustry\", u'notreportedbyNES.(Source:NESandSUSB)', u'sIndicatessamplesdeemedtoosmalltorepresentthepopulationaccordingtoSUSB.']\n",
      "\n",
      "\n",
      "[u'AlabamaSmallBusiness,2016', u'8', u'SBAofAdvocacy', u'S', u'MALL', u'B', u'USINESS', u'E', u'MPLOYMENTBY', u'I', u'NDUSTRY', u'Table2:', u'AlabamaEmploymentbyIndustryandFirmSize,2013', u'(sortedbysmallmemployment)', u'Industry', u'SmallBusiness', u'Employment', u'TotalPrivate', u'Employment', u'SmallBusiness', u'EmploymentShare', u'HealthCareandSocialAssistance', u'113,580', u'240,549', u'47.2%', u'AccommodationandFoodServices', u'89,707', u'161,421', u'55.6%', u'RetailTrade', u'87,257', u'222,277', u'39.3%', u'Manufacturing', u'79,632', u'242,093', u'32.9%', u'OtherServices(exceptPublicAdministration)', u'68,770', u'80,073', u'85.9%', u'Construction', u'65,147', u'78,318', u'83.2%', u'Professional,,andTechnicalServices', u'57,856', u'92,520', u'62.5%', u'Administrative,Support,andWasteManagement', u'44,577', u'133,720', u'33.3%', u'WholesaleTrade', u'44,232', u'72,175', u'61.3%', u'FinanceandInsurance', u'24,832', u'69,332', u'35.8%', u'TransportationandWarehousing', u'24,484', u'58,471', u'41.9%', u'RealEstateandRentalandLeasing', u'15,577', u'23,257', u'67.0%', u'EducationalServices', u'13,791', u'28,969', u'47.6%', u'Arts,Entertainment,andRecreation', u'11,858', u'17,165', u'69.1%', u'Information', u'9,854', u'34,447', u'28.6%', u'Agriculture,Forestry,FishingandHunting', u'5,622', u'6,356', u'88.5%', u'Mining,Quarrying,andOilandGasExtraction', u'2,650', u'7,942', u'33.4%', u'Utilities', u'2,094', u'17,238', u'12.1%', u'Total', u'761,520', u'1,586,323', u'48.0%', u'Figure5:', u'AlabamaCounty-LevelJobChanges,', u'2015(CEW)', u'Table3:', u'AbbreviationsandResources', u'ACS', u'AmericanCommunitySurvey,USCensusBureau', u'BEA', u'BureauofEconomicAnalysis', u'BDM', u'BusinessEmploymentDynamics,BLS', u'BDS', u'BusinessDynamicsStatistics,USCensusBureau', u'BLS', u'BureauofLaborStatistics,USDepartmentofLabor', u'CES', u'CurrentEmploymentStatistics,BLS', u'CEW', u'CensusofEmploymentandWages,BLS', u'CPS', u'CurrentPopulationSurvey,BLS', u'FDIC', u'FederalDepositInsuranceCorporation', u'FFIEC', u'FederalFinancialInstitutionsExaminationCouncil', u'ITA', u'InternationalTradeAdministration', u'NES', u'NonemployerStatistics,USCensusBureau', u'SBO', u'SurveyofBusinessOwners,USCensusBureau', u'SUSB', u'StatisticsofUSBusinesses,USCensusBureau', u'All,sourcedata,methodologynotes,andcounty-level', u'employmentstatisticsareavailableat', u'http://go.usa.gov/cfKMd']\n",
      "\n",
      "\n"
     ]
    }
   ],
   "source": [
    "for fp in file_pdf:\n",
    "    print fp \n",
    "    print '\\n'"
   ]
  },
  {
   "cell_type": "markdown",
   "metadata": {},
   "source": [
    "![alt text](Header.png)"
   ]
  },
  {
   "cell_type": "code",
   "execution_count": 10,
   "metadata": {},
   "outputs": [
    {
     "name": "stdout",
     "output_type": "stream",
     "text": [
      "[u'AlabamaSmallBusiness,2016', u'5', u'SBAofAdvocacy', u'ALABAMA', u'382,524', u'SmallBusinesses', u'765,293', u'SmallBusinessEmployees', u'96.7%', u'ofAlabamaBusinesses', u'47.7%', u'ofAlabamaEmployees', u'EMPLOYMENT', u'5,734', u'netnewjobs', u'1', u'DIVERSITY', u'30.7%', u'increaseinminority', u'ownership', u'2', u'TRADE', u'81.2%', u'ofAlabamaexporters', u'3', u'O', u'VERALL', u'A', u'LABAMA', u'E', u'CONOMY', u'\\u0141', u'Inthethirdquarterof2015,Alabamagrewatanannualrateof', u'2.2%', u'whichwasfasterthantheoverallUSgrowthrateof', u'1.9%', u\".Bycomparison,Alabama's2014growthof\", u'3.6%', u'wasupfromthe2013levelof', u'3.1%', u'.(Source:', u'BEA', u')', u'\\u0141', u'Atthecloseof2015,unemploymentwas', u'6.3%', u',upfrom', u'6.1%', u'atthecloseof2014.Thiswasabovethenationalunem-', u'ploymentrateof', u'5.0%', u'.(Source:', u'CPS', u')', u'E', u'MPLOYMENT', u'\\u0141', u'Alabamasmallbusinessesemployed', u'765,293', u'people,or', u'47.7%', u'oftheprivateworkforce,in2013.(Source:', u'SUSB', u')', u'\\u0141', u'Firmswithfewerthan100employeeshavethelargestshare', u'ofsmallbusinessemployment.SeeFigure1forfurtherde-', u'tailsonmswithemployees.(Source:', u'SUSB', u')', u'\\u0141', u'Private-sectoremploymentincreased', u'1.3%', u'in2015.This', u\"wasbelowthepreviousyear'sincreaseof\", u'1.7%', u'.(Source:', u'CES', u')', u'\\u0141', u'Thenumberofproprietorsincreasedin2014by', u'1.4%', u'rela-', u'tivetothepreviousyear.(Source:', u'BEA', u')', u'\\u0141', u'Smallbusinessescreated', u'5,734', u'netjobsin2013.Among', u'thesevenBDSsize-classes,msemploying50to99em-', u'ployeesexperiencedthelargestgains,adding', u'3,417', u'net', u'jobs.Thelargestlosseswereinmsemploying250to499', u'employeeswhichlost', u'1,016', u'netjobs.(Source:', u'BDS', u')', u'Figure1:', u'AlabamaEmploymentbyFirmSize', u'17.0%', u'16.5%', u'14.3%', u'52.3%', u'1-19Employees', u'20-99Employees', u'100-499Employees', u'>500Employees', u'2013', u'0.0', u'500.0K', u'1.0M', u'1.5M', u'2000', u'2010', u'[', u\"TheSmallBusinessareproducedbytheUSSmallBusinessAdministration'sofAdvocacy.Eachreportincorporatesthemostup-\", u'to-dategovernmentdatatopresentauniquesnapshotofsmallbusinesses.', u'Smallbusinessesareasemployingfewerthan500', u'employees', u'.HyperlinkstodatasourcesandreportgenerationinformationareprovidedinTable3.', u'1,3', u'Netsmallbusinessjobschangeandexportersharearebasedonnewlyreleased2013BDSand2012ITAdata.', u'2', u'Diversitystatistictrackschangesbetween2007and2012basedontheSurveyofBusinessOwners(SBO)2015release.']\n"
     ]
    }
   ],
   "source": [
    "print file_pdf[0]"
   ]
  },
  {
   "cell_type": "markdown",
   "metadata": {},
   "source": [
    "## Loading the file with Tabula\n",
    "\n",
    "tabula-py is a simple Python wrapper of tabula-java, which can read table of PDF. You can read tables from PDF and convert into pandas's DataFrame. tabula-py also enables you to convert a PDF file into CSV/TSV/JSON file."
   ]
  },
  {
   "cell_type": "code",
   "execution_count": 11,
   "metadata": {},
   "outputs": [],
   "source": [
    "import tabula"
   ]
  },
  {
   "cell_type": "code",
   "execution_count": 12,
   "metadata": {},
   "outputs": [],
   "source": [
    "def load_pdf(path_file):\n",
    "    if path_file.startswith('s3://'):  \n",
    "        fs = s3fs.S3FileSystem()\n",
    "        with fs.open(path_file, 'rb') as fp_in:\n",
    "            pdf = tabula.read_pdf(fp_in,multiple_tables=True, pages = 'all')\n",
    "    else:\n",
    "        pdf = tabula.read_pdf(path_file,multiple_tables=True, pages = 'all')\n",
    "    return pdf"
   ]
  },
  {
   "cell_type": "code",
   "execution_count": 13,
   "metadata": {},
   "outputs": [
    {
     "name": "stdout",
     "output_type": "stream",
     "text": [
      "CPU times: user 4 ms, sys: 8 ms, total: 12 ms\n",
      "Wall time: 4.37 s\n"
     ]
    }
   ],
   "source": [
    "%%time\n",
    "files = list_files(path_local)[0]\n",
    "path_file = path(path_local,files)\n",
    "file_pdf = load_pdf(path_file)"
   ]
  },
  {
   "cell_type": "code",
   "execution_count": 14,
   "metadata": {},
   "outputs": [
    {
     "name": "stdout",
     "output_type": "stream",
     "text": [
      "      0                                                  1        2  \\\n",
      "0   NaN  of small business employment. See Figure 1 for...      NaN   \n",
      "1   NaN      tails on firms with employees. (Source: SUSB)    1.5 M   \n",
      "2     •  Private-sector employment increased 1.3% in 20...      NaN   \n",
      "3   NaN  was below the previous year’s increase of 1.7%...      NaN   \n",
      "4   NaN                                               CES)    1.0 M   \n",
      "5     •  The number of proprietors increased in 2014 by...      NaN   \n",
      "6   NaN           tive to the previous year. (Source: BEA)      NaN   \n",
      "7   NaN                                                NaN      NaN   \n",
      "8   NaN                                                NaN  500.0 K   \n",
      "9   NaN                                                NaN      NaN   \n",
      "10    •  Small businesses created 5,734 net jobs in 201...      NaN   \n",
      "11  NaN  the seven BDS size-classes, firms employing 50...      NaN   \n",
      "12  NaN  ployees experienced the largest gains, adding ...      NaN   \n",
      "\n",
      "                    3      4  \n",
      "0                 NaN    NaN  \n",
      "1                 NaN    NaN  \n",
      "2      >500 Employees  52.3%  \n",
      "3                 NaN    NaN  \n",
      "4                 NaN    NaN  \n",
      "5   100-499 Employees    NaN  \n",
      "6                 NaN    NaN  \n",
      "7                 NaN  14.3%  \n",
      "8                 NaN    NaN  \n",
      "9     20-99 Employees    NaN  \n",
      "10                NaN  16.5%  \n",
      "11                NaN    NaN  \n",
      "12     1-19 Employees  17.0%  \n",
      "\n",
      "\n",
      "     0                                                  1  \\\n",
      "0  NaN                                                NaN   \n",
      "1  NaN                                         EMPLOYMENT   \n",
      "2  NaN                                              5,734   \n",
      "3  NaN                                     net new jobs 1   \n",
      "4  NaN                            OVERALL ALABAMA ECONOMY   \n",
      "5    •  In the third quarter of 2015, Alabama grew at ...   \n",
      "6  NaN  1.9%. By comparison, Alabama’s 2014 growth of ...   \n",
      "7    •  At the close of 2015, unemployment was 6.3%, u...   \n",
      "8  NaN               ployment rate of 5.0%. (Source: CPS)   \n",
      "9  NaN                                         EMPLOYMENT   \n",
      "\n",
      "                                                   2    3  \n",
      "0                                          DIVERSITY  NaN  \n",
      "1                                              TRADE  NaN  \n",
      "2                                        30.7% 81.2%  NaN  \n",
      "3  increase in minorityownership2 of Alabama expo...    3  \n",
      "4                                                NaN  NaN  \n",
      "5                                                NaN  NaN  \n",
      "6                                                NaN  NaN  \n",
      "7                  This was above the national unem-  NaN  \n",
      "8                                                NaN  NaN  \n",
      "9                                                NaN  NaN  \n",
      "\n",
      "\n",
      "                                                    0  \\\n",
      "0                         BUSINESS OWNER DEMOGRAPHICS   \n",
      "1               Figure 2: Alabama Changes in Business   \n",
      "2                      Ownership by Demographic Group   \n",
      "3                       ●African American-owned 28.7%   \n",
      "4                                  ●Asian-owned 35.4%   \n",
      "5             ●Hawaiian/Pacific Islander-owned -16.9%   \n",
      "6                               ●Hispanic-owned 51.5%   \n",
      "7                ●Native American/Alaskan-owned 27.0%   \n",
      "8                                                 NaN   \n",
      "9                               ●Minority-owned 30.7%   \n",
      "10                           ●Nonminority-owned -8.6%   \n",
      "11  • Figure 2 displays the change in overall firm...   \n",
      "12  Survey of Business Owners (SBO) for Alabama, r...   \n",
      "13  • Figure 3 displays the percent of each demogr...   \n",
      "14           Community Survey (ACS) 5-year estimates.   \n",
      "15                                  BUSINESS TURNOVER   \n",
      "\n",
      "                                           1  \n",
      "0                                        NaN  \n",
      "1   Figure 3: Alabama Self-Employment within  \n",
      "2                          Demographic Group  \n",
      "3                                        NaN  \n",
      "4                                       5.7%  \n",
      "5                                      10.6%  \n",
      "6                                      10.0%  \n",
      "7                                        NaN  \n",
      "8                                       5.2%  \n",
      "9                                        NaN  \n",
      "10              Female Male Minority Veteran  \n",
      "11            from 2007 to 2012 based on the  \n",
      "12                                       NaN  \n",
      "13                                       NaN  \n",
      "14                                       NaN  \n",
      "15                                       NaN  \n",
      "\n",
      "\n",
      "                                                   0       1      2       3  \\\n",
      "0                                       Retail Trade  10,674  9,627  27,992   \n",
      "1      Other Services (except Public Administration)  10,042  9,332  63,575   \n",
      "2   Professional, Scientific, and Technical Services   8,081  7,378  31,099   \n",
      "3                  Health Care and Social Assistance   7,823  6,670  21,808   \n",
      "4                                       Construction   7,143  6,373  39,463   \n",
      "5                    Accommodation and Food Services   5,525  4,255   4,889   \n",
      "6                                    Wholesale Trade   3,785  2,974   5,061   \n",
      "7                                      Manufacturing   3,377  2,349   4,425   \n",
      "8      Administrative, Support, and Waste Management   3,355  2,842  37,265   \n",
      "9                              Finance and Insurance   2,916  2,582   7,842   \n",
      "10                Real Estate and Rental and Leasing   2,799  2,590  29,081   \n",
      "11                    Transportation and Warehousing   2,197  1,834  12,669   \n",
      "12               Arts, Entertainment, and Recreation   1,003    860  11,253   \n",
      "13        Agriculture, Forestry, Fishing and Hunting     768    715   4,378   \n",
      "14                              Educational Services     746    574   6,894   \n",
      "15                                       Information     617    489   2,930   \n",
      "16     Mining, Quarrying, and Oil and Gas Extraction     149    103     698   \n",
      "\n",
      "         4  \n",
      "0   38,666  \n",
      "1   73,617  \n",
      "2   39,180  \n",
      "3   29,631  \n",
      "4   46,606  \n",
      "5   10,414  \n",
      "6    8,846  \n",
      "7    7,802  \n",
      "8   40,620  \n",
      "9   10,758  \n",
      "10  31,880  \n",
      "11  14,866  \n",
      "12  12,256  \n",
      "13   5,146  \n",
      "14   7,640  \n",
      "15   3,547  \n",
      "16     847  \n",
      "\n",
      "\n"
     ]
    }
   ],
   "source": [
    "for fp in file_pdf:\n",
    "    print fp \n",
    "    print '\\n'"
   ]
  },
  {
   "cell_type": "markdown",
   "metadata": {},
   "source": [
    "![alt text](Table.png)"
   ]
  },
  {
   "cell_type": "code",
   "execution_count": 15,
   "metadata": {},
   "outputs": [
    {
     "data": {
      "text/html": [
       "<div>\n",
       "<style>\n",
       "    .dataframe thead tr:only-child th {\n",
       "        text-align: right;\n",
       "    }\n",
       "\n",
       "    .dataframe thead th {\n",
       "        text-align: left;\n",
       "    }\n",
       "\n",
       "    .dataframe tbody tr th {\n",
       "        vertical-align: top;\n",
       "    }\n",
       "</style>\n",
       "<table border=\"1\" class=\"dataframe\">\n",
       "  <thead>\n",
       "    <tr style=\"text-align: right;\">\n",
       "      <th></th>\n",
       "      <th>0</th>\n",
       "      <th>1</th>\n",
       "      <th>2</th>\n",
       "      <th>3</th>\n",
       "      <th>4</th>\n",
       "    </tr>\n",
       "  </thead>\n",
       "  <tbody>\n",
       "    <tr>\n",
       "      <th>0</th>\n",
       "      <td>Retail Trade</td>\n",
       "      <td>10,674</td>\n",
       "      <td>9,627</td>\n",
       "      <td>27,992</td>\n",
       "      <td>38,666</td>\n",
       "    </tr>\n",
       "    <tr>\n",
       "      <th>1</th>\n",
       "      <td>Other Services (except Public Administration)</td>\n",
       "      <td>10,042</td>\n",
       "      <td>9,332</td>\n",
       "      <td>63,575</td>\n",
       "      <td>73,617</td>\n",
       "    </tr>\n",
       "    <tr>\n",
       "      <th>2</th>\n",
       "      <td>Professional, Scientific, and Technical Services</td>\n",
       "      <td>8,081</td>\n",
       "      <td>7,378</td>\n",
       "      <td>31,099</td>\n",
       "      <td>39,180</td>\n",
       "    </tr>\n",
       "    <tr>\n",
       "      <th>3</th>\n",
       "      <td>Health Care and Social Assistance</td>\n",
       "      <td>7,823</td>\n",
       "      <td>6,670</td>\n",
       "      <td>21,808</td>\n",
       "      <td>29,631</td>\n",
       "    </tr>\n",
       "    <tr>\n",
       "      <th>4</th>\n",
       "      <td>Construction</td>\n",
       "      <td>7,143</td>\n",
       "      <td>6,373</td>\n",
       "      <td>39,463</td>\n",
       "      <td>46,606</td>\n",
       "    </tr>\n",
       "    <tr>\n",
       "      <th>5</th>\n",
       "      <td>Accommodation and Food Services</td>\n",
       "      <td>5,525</td>\n",
       "      <td>4,255</td>\n",
       "      <td>4,889</td>\n",
       "      <td>10,414</td>\n",
       "    </tr>\n",
       "    <tr>\n",
       "      <th>6</th>\n",
       "      <td>Wholesale Trade</td>\n",
       "      <td>3,785</td>\n",
       "      <td>2,974</td>\n",
       "      <td>5,061</td>\n",
       "      <td>8,846</td>\n",
       "    </tr>\n",
       "    <tr>\n",
       "      <th>7</th>\n",
       "      <td>Manufacturing</td>\n",
       "      <td>3,377</td>\n",
       "      <td>2,349</td>\n",
       "      <td>4,425</td>\n",
       "      <td>7,802</td>\n",
       "    </tr>\n",
       "    <tr>\n",
       "      <th>8</th>\n",
       "      <td>Administrative, Support, and Waste Management</td>\n",
       "      <td>3,355</td>\n",
       "      <td>2,842</td>\n",
       "      <td>37,265</td>\n",
       "      <td>40,620</td>\n",
       "    </tr>\n",
       "    <tr>\n",
       "      <th>9</th>\n",
       "      <td>Finance and Insurance</td>\n",
       "      <td>2,916</td>\n",
       "      <td>2,582</td>\n",
       "      <td>7,842</td>\n",
       "      <td>10,758</td>\n",
       "    </tr>\n",
       "    <tr>\n",
       "      <th>10</th>\n",
       "      <td>Real Estate and Rental and Leasing</td>\n",
       "      <td>2,799</td>\n",
       "      <td>2,590</td>\n",
       "      <td>29,081</td>\n",
       "      <td>31,880</td>\n",
       "    </tr>\n",
       "    <tr>\n",
       "      <th>11</th>\n",
       "      <td>Transportation and Warehousing</td>\n",
       "      <td>2,197</td>\n",
       "      <td>1,834</td>\n",
       "      <td>12,669</td>\n",
       "      <td>14,866</td>\n",
       "    </tr>\n",
       "    <tr>\n",
       "      <th>12</th>\n",
       "      <td>Arts, Entertainment, and Recreation</td>\n",
       "      <td>1,003</td>\n",
       "      <td>860</td>\n",
       "      <td>11,253</td>\n",
       "      <td>12,256</td>\n",
       "    </tr>\n",
       "    <tr>\n",
       "      <th>13</th>\n",
       "      <td>Agriculture, Forestry, Fishing and Hunting</td>\n",
       "      <td>768</td>\n",
       "      <td>715</td>\n",
       "      <td>4,378</td>\n",
       "      <td>5,146</td>\n",
       "    </tr>\n",
       "    <tr>\n",
       "      <th>14</th>\n",
       "      <td>Educational Services</td>\n",
       "      <td>746</td>\n",
       "      <td>574</td>\n",
       "      <td>6,894</td>\n",
       "      <td>7,640</td>\n",
       "    </tr>\n",
       "    <tr>\n",
       "      <th>15</th>\n",
       "      <td>Information</td>\n",
       "      <td>617</td>\n",
       "      <td>489</td>\n",
       "      <td>2,930</td>\n",
       "      <td>3,547</td>\n",
       "    </tr>\n",
       "    <tr>\n",
       "      <th>16</th>\n",
       "      <td>Mining, Quarrying, and Oil and Gas Extraction</td>\n",
       "      <td>149</td>\n",
       "      <td>103</td>\n",
       "      <td>698</td>\n",
       "      <td>847</td>\n",
       "    </tr>\n",
       "  </tbody>\n",
       "</table>\n",
       "</div>"
      ],
      "text/plain": [
       "                                                   0       1      2       3  \\\n",
       "0                                       Retail Trade  10,674  9,627  27,992   \n",
       "1      Other Services (except Public Administration)  10,042  9,332  63,575   \n",
       "2   Professional, Scientific, and Technical Services   8,081  7,378  31,099   \n",
       "3                  Health Care and Social Assistance   7,823  6,670  21,808   \n",
       "4                                       Construction   7,143  6,373  39,463   \n",
       "5                    Accommodation and Food Services   5,525  4,255   4,889   \n",
       "6                                    Wholesale Trade   3,785  2,974   5,061   \n",
       "7                                      Manufacturing   3,377  2,349   4,425   \n",
       "8      Administrative, Support, and Waste Management   3,355  2,842  37,265   \n",
       "9                              Finance and Insurance   2,916  2,582   7,842   \n",
       "10                Real Estate and Rental and Leasing   2,799  2,590  29,081   \n",
       "11                    Transportation and Warehousing   2,197  1,834  12,669   \n",
       "12               Arts, Entertainment, and Recreation   1,003    860  11,253   \n",
       "13        Agriculture, Forestry, Fishing and Hunting     768    715   4,378   \n",
       "14                              Educational Services     746    574   6,894   \n",
       "15                                       Information     617    489   2,930   \n",
       "16     Mining, Quarrying, and Oil and Gas Extraction     149    103     698   \n",
       "\n",
       "         4  \n",
       "0   38,666  \n",
       "1   73,617  \n",
       "2   39,180  \n",
       "3   29,631  \n",
       "4   46,606  \n",
       "5   10,414  \n",
       "6    8,846  \n",
       "7    7,802  \n",
       "8   40,620  \n",
       "9   10,758  \n",
       "10  31,880  \n",
       "11  14,866  \n",
       "12  12,256  \n",
       "13   5,146  \n",
       "14   7,640  \n",
       "15   3,547  \n",
       "16     847  "
      ]
     },
     "execution_count": 15,
     "metadata": {},
     "output_type": "execute_result"
    }
   ],
   "source": [
    "file_pdf[-1]"
   ]
  },
  {
   "cell_type": "markdown",
   "metadata": {},
   "source": [
    "## Loading the file with pdf_query (An alternative to PdfMiner)\n",
    "\n",
    "PDFQuery is a light wrapper around pdfminer, lxml and pyquery. It's designed to reliably extract data from sets of PDFs with as little code as possible."
   ]
  },
  {
   "cell_type": "code",
   "execution_count": 16,
   "metadata": {},
   "outputs": [],
   "source": [
    "import pdfquery"
   ]
  },
  {
   "cell_type": "code",
   "execution_count": 17,
   "metadata": {},
   "outputs": [],
   "source": [
    "def load_pdf(path_file):\n",
    "    if path_file.startswith('s3://'):  \n",
    "        fs = s3fs.S3FileSystem()\n",
    "        with fs.open(path_file, 'rb') as fp_in:\n",
    "            pdf = pdfquery.PDFQuery(fp_in)\n",
    "            pdf.load()\n",
    "    else:\n",
    "        pdf = pdfquery.PDFQuery(path_file)\n",
    "        pdf.load()        \n",
    "    return pdf"
   ]
  },
  {
   "cell_type": "code",
   "execution_count": 18,
   "metadata": {},
   "outputs": [
    {
     "name": "stdout",
     "output_type": "stream",
     "text": [
      "CPU times: user 3.3 s, sys: 96 ms, total: 3.4 s\n",
      "Wall time: 3.44 s\n"
     ]
    }
   ],
   "source": [
    "%%time\n",
    "files = list_files(path_local)[0]\n",
    "path_file = path(path_local,files)\n",
    "file_pdf = load_pdf(path_file)"
   ]
  },
  {
   "cell_type": "code",
   "execution_count": 19,
   "metadata": {},
   "outputs": [
    {
     "data": {
      "text/plain": [
       "<pdfquery.pdfquery.PDFQuery at 0x7f5a068b5090>"
      ]
     },
     "execution_count": 19,
     "metadata": {},
     "output_type": "execute_result"
    }
   ],
   "source": [
    "file_pdf"
   ]
  },
  {
   "cell_type": "markdown",
   "metadata": {},
   "source": [
    "### Finding some text and retrieving the coordinates"
   ]
  },
  {
   "cell_type": "markdown",
   "metadata": {},
   "source": [
    "![alt text](Header.png)"
   ]
  },
  {
   "cell_type": "code",
   "execution_count": 20,
   "metadata": {},
   "outputs": [],
   "source": [
    "def getCoordinates(pdf,query, type_search = \"Line\"):\n",
    "        name = pdf.pq('LTText%sHorizontal:contains(\"%s\")' % (type_search,query))\n",
    "        for n in name:\n",
    "            d = dict()\n",
    "            d[\"left_corner\"] = math.floor(float(n.layout.x0)* 1000)/1000.0\n",
    "            d[\"bottom_corner\"] = math.floor(float(n.layout.y0)* 1000)/1000.0\n",
    "            d[\"right_corner\"] = math.ceil(float(n.layout.x1)* 1000)/1000.0\n",
    "            d[\"upper_corner\"] = math.ceil(float(n.layout.y1)* 1000)/1000.0\n",
    "            d[\"text\"] = n.layout.get_text()\n",
    "            d[\"pageid\"] = int(float(n.iterancestors('LTPage').next().layout.pageid))\n",
    "            yield d"
   ]
  },
  {
   "cell_type": "code",
   "execution_count": 21,
   "metadata": {},
   "outputs": [
    {
     "data": {
      "text/plain": [
       "{'bottom_corner': 635.368,\n",
       " 'left_corner': 103.344,\n",
       " 'pageid': 1,\n",
       " 'right_corner': 190.135,\n",
       " 'text': u'Small Businesses\\n',\n",
       " 'upper_corner': 648.985}"
      ]
     },
     "execution_count": 21,
     "metadata": {},
     "output_type": "execute_result"
    }
   ],
   "source": [
    "g = getCoordinates(file_pdf,'Small Businesses', type_search='Line')\n",
    "d = next(g,None)\n",
    "d"
   ]
  },
  {
   "cell_type": "markdown",
   "metadata": {},
   "source": [
    "### Retrieving text around given a set of  coordinates"
   ]
  },
  {
   "cell_type": "code",
   "execution_count": 22,
   "metadata": {},
   "outputs": [
    {
     "data": {
      "text/plain": [
       "'Small Businesses\\nof Alabama Businesses'"
      ]
     },
     "execution_count": 22,
     "metadata": {},
     "output_type": "execute_result"
    }
   ],
   "source": [
    "file_pdf.pq(('LTPage[pageid=\"%s\"] LTTextBoxHorizontal:overlaps_bbox(\"%f,%f,%f,%f\")' % (d['pageid'],\n",
    "                                                                                  d['left_corner'],\n",
    "                                                                                  d['bottom_corner'],\n",
    "                                                                                  d['right_corner'],\n",
    "                                                                                  d['upper_corner']))).text()"
   ]
  },
  {
   "cell_type": "code",
   "execution_count": 23,
   "metadata": {},
   "outputs": [
    {
     "data": {
      "text/plain": [
       "'382,524\\n96.7% Small Businesses\\nof Alabama Businesses'"
      ]
     },
     "execution_count": 23,
     "metadata": {},
     "output_type": "execute_result"
    }
   ],
   "source": [
    "left_corner = 0\n",
    "file_pdf.pq(('LTPage[pageid=\"%s\"] LTTextBoxHorizontal:overlaps_bbox(\"%f,%f,%f,%f\")' % (d['pageid'],\n",
    "                                                                                  left_corner,\n",
    "                                                                                  d['bottom_corner'],\n",
    "                                                                                  d['right_corner'],\n",
    "                                                                                  d['upper_corner']))).text()"
   ]
  },
  {
   "cell_type": "markdown",
   "metadata": {},
   "source": [
    "### Reading several fields all at once"
   ]
  },
  {
   "cell_type": "code",
   "execution_count": 24,
   "metadata": {},
   "outputs": [
    {
     "data": {
      "text/plain": [
       "{'DIVERSITY': 'DIVERSITY 30.7% increase in minority ownership2',\n",
       " 'EMPLOYMENT': 'EMPLOYMENT 5,734 net new jobs1',\n",
       " 'TRADE': 'TRADE\\n81.2% of Alabama exporters3'}"
      ]
     },
     "execution_count": 24,
     "metadata": {},
     "output_type": "execute_result"
    }
   ],
   "source": [
    "KeyFigures = ['EMPLOYMENT',\n",
    "              'DIVERSITY',\n",
    "              'TRADE']    \n",
    "delta_bottom = 30\n",
    "\n",
    "Info = [('with_formatter', 'text')]\n",
    "\n",
    "for kf in KeyFigures:\n",
    "    g = getCoordinates(pdf=file_pdf,query=kf,type_search=\"Box\")\n",
    "    d = next(g,None)\n",
    "    Info.append(tuple((kf,'LTPage[pageid=\"%s\"] LTTextBoxHorizontal:overlaps_bbox(\"%f,%f,%f,%f\")'%(d['pageid'],\n",
    "                                                                                                   d[\"left_corner\"],\n",
    "                                                                                                   d[\"bottom_corner\"]-delta_bottom,\n",
    "                                                                                                   d[\"right_corner\"],\n",
    "                                                                                                   d[\"upper_corner\"]))))\n",
    "    info = file_pdf.extract(Info)\n",
    "info"
   ]
  },
  {
   "cell_type": "markdown",
   "metadata": {},
   "source": [
    "### A better example"
   ]
  },
  {
   "cell_type": "markdown",
   "metadata": {},
   "source": [
    "![alt text](Dictionary.png)"
   ]
  },
  {
   "cell_type": "code",
   "execution_count": 25,
   "metadata": {},
   "outputs": [],
   "source": [
    "def info1(file_pdf):\n",
    "    col_right_align = 300\n",
    "    DemographicGroup = ['American-owned',\n",
    "                        'Asian-owned',\n",
    "                        'Islander-owned',\n",
    "                        'Hispanic-owned',\n",
    "                        'Alaskan-owned',\n",
    "                        'Minority-owned',\n",
    "                        'Nonminority-owned']    \n",
    "    \n",
    "    DemographicInfo = [('with_formatter', 'text')]\n",
    "    \n",
    "    for dg in DemographicGroup:\n",
    "        g = getCoordinates(pdf=file_pdf,query=dg,type_search=\"Line\")\n",
    "        d = next(g,None)\n",
    "        DemographicInfo.append(tuple((dg,'LTTextLineHorizontal:in_bbox(\"%f,%f,%f,%f\")'%(d[\"left_corner\"],\n",
    "                                                                                        d[\"bottom_corner\"],\n",
    "                                                                                        col_right_align,\n",
    "                                                                                        d[\"upper_corner\"]))))\n",
    "    info = file_pdf.extract(DemographicInfo)\n",
    "    return info"
   ]
  },
  {
   "cell_type": "code",
   "execution_count": 26,
   "metadata": {},
   "outputs": [
    {
     "data": {
      "text/plain": [
       "{'Alaskan-owned': 'Native American/Alaskan-owned l 27.0%',\n",
       " 'American-owned': 'African American-owned l 28.7%',\n",
       " 'Asian-owned': 'Asian-owned l 35.4%',\n",
       " 'Hispanic-owned': 'Hispanic-owned l 51.5%',\n",
       " 'Islander-owned': u'Hawaiian/Paci\\ufb01c Islander-owned l -16.9%',\n",
       " 'Minority-owned': 'Minority-owned l 30.7%',\n",
       " 'Nonminority-owned': 'Nonminority-owned l -8.6%'}"
      ]
     },
     "execution_count": 26,
     "metadata": {},
     "output_type": "execute_result"
    }
   ],
   "source": [
    "info1(file_pdf)"
   ]
  },
  {
   "cell_type": "markdown",
   "metadata": {},
   "source": [
    "### How about a full table?"
   ]
  },
  {
   "cell_type": "markdown",
   "metadata": {},
   "source": [
    "![alt text](Table.png)"
   ]
  },
  {
   "cell_type": "code",
   "execution_count": 27,
   "metadata": {},
   "outputs": [],
   "source": [
    "def getTable(file_pdf, col_width, row_space, row_height,title,bottom_corner_dif,headers,col_left_align):\n",
    "    \n",
    "    table = list()\n",
    "    table.append(headers)\n",
    "    \n",
    "    g = getCoordinates(pdf=file_pdf,query=title,type_search=\"Line\")\n",
    "    d = next(g,None)\n",
    "    \n",
    "    pageid = d['pageid']\n",
    "    bottom_corner = d['bottom_corner'] - bottom_corner_dif\n",
    "\n",
    "    while 1:\n",
    "        columns = (c for c in xrange(len(headers)))\n",
    "        boxes = list()\n",
    "        for c in columns:\n",
    "            boxes.append(tuple(('col_%s' %(c),\n",
    "                               'LTPage[pageid=\"%s\"] LTTextLineHorizontal:overlaps_bbox(\"%f,%f,%f,%f\")' % (pageid,\n",
    "                                                                                                          col_left_align[c],\n",
    "                                                                                                          bottom_corner,\n",
    "                                                                                                          col_left_align[c]+col_width,\n",
    "                                                                                                          bottom_corner+row_height))))\n",
    "\n",
    "\n",
    "\n",
    "        columns = [c for c in xrange(len(headers))]\n",
    "        row = file_pdf.extract(boxes)\n",
    "        columns = [row['col_{}'.format(c)].text() for c in columns]\n",
    "        table.append(columns)\n",
    "        if 'Total' in row['col_0'].text():\n",
    "            break\n",
    "\n",
    "        bottom_corner -= row_space\n",
    "    return table"
   ]
  },
  {
   "cell_type": "code",
   "execution_count": 28,
   "metadata": {},
   "outputs": [],
   "source": [
    "def info2(file_pdf):\n",
    "    col_width = 35\n",
    "    col_left_align = [50,295,371,449,532]\n",
    "    row_space = 16.78\n",
    "    row_height = 14\n",
    "    bottom_corner_dif = 126.91\n",
    "    headers = ['Industry',\n",
    "                '1-499 Employees',\n",
    "                '1-19 Employees',\n",
    "                'Nonemployer Firms',\n",
    "                'Total Small Firms'] \n",
    "\n",
    "    table = getTable(col_left_align=col_left_align,\n",
    "                     col_width=col_width,\n",
    "                     file_pdf=file_pdf,\n",
    "                     headers=headers,\n",
    "                     row_height=row_height,\n",
    "                     row_space = row_space,\n",
    "                     bottom_corner_dif=bottom_corner_dif,\n",
    "                     title = \"Table 1\")\n",
    "                     \n",
    "    return table"
   ]
  },
  {
   "cell_type": "code",
   "execution_count": 29,
   "metadata": {},
   "outputs": [
    {
     "data": {
      "text/plain": [
       "[['Industry',\n",
       "  '1-499 Employees',\n",
       "  '1-19 Employees',\n",
       "  'Nonemployer Firms',\n",
       "  'Total Small Firms'],\n",
       " ['Retail Trade', '10,674', '9,627', '27,992', '38,666'],\n",
       " ['Other Services (except Public Administration)',\n",
       "  '10,042',\n",
       "  '9,332',\n",
       "  '63,575',\n",
       "  '73,617'],\n",
       " [u'Professional, Scienti\\ufb01c, and Technical Services',\n",
       "  '8,081',\n",
       "  '7,378',\n",
       "  '31,099',\n",
       "  '39,180'],\n",
       " ['Health Care and Social Assistance', '7,823', '6,670', '21,808', '29,631'],\n",
       " ['Construction', '7,143', '6,373', '39,463', '46,606'],\n",
       " ['Accommodation and Food Services', '5,525', '4,255', '4,889', '10,414'],\n",
       " ['Wholesale Trade', '3,785', '2,974', '5,061', '8,846'],\n",
       " ['Manufacturing', '3,377', '2,349', '4,425', '7,802'],\n",
       " ['Administrative, Support, and Waste Management',\n",
       "  '3,355',\n",
       "  '2,842',\n",
       "  '37,265',\n",
       "  '40,620'],\n",
       " ['Finance and Insurance', '2,916', '2,582', '7,842', '10,758'],\n",
       " ['Real Estate and Rental and Leasing', '2,799', '2,590', '29,081', '31,880'],\n",
       " ['Transportation and Warehousing', '2,197', '1,834', '12,669', '14,866'],\n",
       " ['Arts, Entertainment, and Recreation', '1,003', '860', '11,253', '12,256'],\n",
       " ['Agriculture, Forestry, Fishing and Hunting',\n",
       "  '768',\n",
       "  '715',\n",
       "  '4,378',\n",
       "  '5,146'],\n",
       " ['Educational Services', '746', '574', '6,894', '7,640'],\n",
       " ['Information', '617', '489', '2,930', '3,547'],\n",
       " ['Mining, Quarrying, and Oil and Gas Extraction', '149', '103', '698', '847'],\n",
       " ['Utilities', '92', '64', '256', '348'],\n",
       " ['Total', '71,092', '61,611', '311,578', '382,670']]"
      ]
     },
     "execution_count": 29,
     "metadata": {},
     "output_type": "execute_result"
    }
   ],
   "source": [
    "info2(file_pdf)"
   ]
  },
  {
   "cell_type": "markdown",
   "metadata": {},
   "source": [
    "### Another example"
   ]
  },
  {
   "cell_type": "code",
   "execution_count": 30,
   "metadata": {},
   "outputs": [],
   "source": [
    "def info3(file_pdf):\n",
    "    col_width = 35\n",
    "    col_left_align = [50,325,400,532]\n",
    "    row_space = 13.6\n",
    "    row_height = 12.4\n",
    "    bottom_corner_dif = 115.5\n",
    "\n",
    "    headers = ['Industry',\n",
    "               'Small Business Employment',\n",
    "               'Total Private Employment',\n",
    "               'Small Business Emp Share']    \n",
    "    \n",
    "    table = getTable(col_left_align=col_left_align,\n",
    "                     col_width=col_width,\n",
    "                     file_pdf=file_pdf,\n",
    "                     headers=headers,\n",
    "                     row_height=row_height,\n",
    "                     row_space = row_space,\n",
    "                     bottom_corner_dif=bottom_corner_dif,\n",
    "                     title = \"Table 2\")\n",
    "\n",
    "    return table"
   ]
  },
  {
   "cell_type": "code",
   "execution_count": 31,
   "metadata": {},
   "outputs": [
    {
     "data": {
      "text/plain": [
       "[['Industry',\n",
       "  'Small Business Employment',\n",
       "  'Total Private Employment',\n",
       "  'Small Business Emp Share'],\n",
       " ['Health Care and Social Assistance', '113,580', '240,549', '47.2%'],\n",
       " ['Accommodation and Food Services', '89,707', '161,421', '55.6%'],\n",
       " ['Retail Trade', '87,257', '222,277', '39.3%'],\n",
       " ['Manufacturing', '79,632', '242,093', '32.9%'],\n",
       " ['Other Services (except Public Administration)',\n",
       "  '68,770',\n",
       "  '80,073',\n",
       "  '85.9%'],\n",
       " ['Construction', '65,147', '78,318', '83.2%'],\n",
       " [u'Professional, Scienti\\ufb01c, and Technical Services',\n",
       "  '57,856',\n",
       "  '92,520',\n",
       "  '62.5%'],\n",
       " ['Administrative, Support, and Waste Management',\n",
       "  '44,577',\n",
       "  '133,720',\n",
       "  '33.3%'],\n",
       " ['Wholesale Trade', '44,232', '72,175', '61.3%'],\n",
       " ['Finance and Insurance', '24,832', '69,332', '35.8%'],\n",
       " ['Transportation and Warehousing', '24,484', '58,471', '41.9%'],\n",
       " ['Real Estate and Rental and Leasing', '15,577', '23,257', '67.0%'],\n",
       " ['Educational Services', '13,791', '28,969', '47.6%'],\n",
       " ['Arts, Entertainment, and Recreation', '11,858', '17,165', '69.1%'],\n",
       " ['Information', '9,854', '34,447', '28.6%'],\n",
       " ['Agriculture, Forestry, Fishing and Hunting', '5,622', '6,356', '88.5%'],\n",
       " ['Mining, Quarrying, and Oil and Gas Extraction', '2,650', '7,942', '33.4%'],\n",
       " ['Utilities', '2,094', '17,238', '12.1%'],\n",
       " ['Total', '761,520', '1,586,323', '48.0%']]"
      ]
     },
     "execution_count": 31,
     "metadata": {},
     "output_type": "execute_result"
    }
   ],
   "source": [
    "df = info3(file_pdf)\n",
    "df"
   ]
  },
  {
   "cell_type": "markdown",
   "metadata": {},
   "source": [
    "### To pandas"
   ]
  },
  {
   "cell_type": "code",
   "execution_count": 32,
   "metadata": {},
   "outputs": [
    {
     "data": {
      "text/html": [
       "<div>\n",
       "<style>\n",
       "    .dataframe thead tr:only-child th {\n",
       "        text-align: right;\n",
       "    }\n",
       "\n",
       "    .dataframe thead th {\n",
       "        text-align: left;\n",
       "    }\n",
       "\n",
       "    .dataframe tbody tr th {\n",
       "        vertical-align: top;\n",
       "    }\n",
       "</style>\n",
       "<table border=\"1\" class=\"dataframe\">\n",
       "  <thead>\n",
       "    <tr style=\"text-align: right;\">\n",
       "      <th></th>\n",
       "      <th>Industry</th>\n",
       "      <th>Small Business Employment</th>\n",
       "      <th>Total Private Employment</th>\n",
       "      <th>Small Business Emp Share</th>\n",
       "    </tr>\n",
       "  </thead>\n",
       "  <tbody>\n",
       "    <tr>\n",
       "      <th>0</th>\n",
       "      <td>Health Care and Social Assistance</td>\n",
       "      <td>113,580</td>\n",
       "      <td>240,549</td>\n",
       "      <td>47.2%</td>\n",
       "    </tr>\n",
       "    <tr>\n",
       "      <th>1</th>\n",
       "      <td>Accommodation and Food Services</td>\n",
       "      <td>89,707</td>\n",
       "      <td>161,421</td>\n",
       "      <td>55.6%</td>\n",
       "    </tr>\n",
       "    <tr>\n",
       "      <th>2</th>\n",
       "      <td>Retail Trade</td>\n",
       "      <td>87,257</td>\n",
       "      <td>222,277</td>\n",
       "      <td>39.3%</td>\n",
       "    </tr>\n",
       "    <tr>\n",
       "      <th>3</th>\n",
       "      <td>Manufacturing</td>\n",
       "      <td>79,632</td>\n",
       "      <td>242,093</td>\n",
       "      <td>32.9%</td>\n",
       "    </tr>\n",
       "    <tr>\n",
       "      <th>4</th>\n",
       "      <td>Other Services (except Public Administration)</td>\n",
       "      <td>68,770</td>\n",
       "      <td>80,073</td>\n",
       "      <td>85.9%</td>\n",
       "    </tr>\n",
       "    <tr>\n",
       "      <th>5</th>\n",
       "      <td>Construction</td>\n",
       "      <td>65,147</td>\n",
       "      <td>78,318</td>\n",
       "      <td>83.2%</td>\n",
       "    </tr>\n",
       "    <tr>\n",
       "      <th>6</th>\n",
       "      <td>Professional, Scientiﬁc, and Technical Services</td>\n",
       "      <td>57,856</td>\n",
       "      <td>92,520</td>\n",
       "      <td>62.5%</td>\n",
       "    </tr>\n",
       "    <tr>\n",
       "      <th>7</th>\n",
       "      <td>Administrative, Support, and Waste Management</td>\n",
       "      <td>44,577</td>\n",
       "      <td>133,720</td>\n",
       "      <td>33.3%</td>\n",
       "    </tr>\n",
       "    <tr>\n",
       "      <th>8</th>\n",
       "      <td>Wholesale Trade</td>\n",
       "      <td>44,232</td>\n",
       "      <td>72,175</td>\n",
       "      <td>61.3%</td>\n",
       "    </tr>\n",
       "    <tr>\n",
       "      <th>9</th>\n",
       "      <td>Finance and Insurance</td>\n",
       "      <td>24,832</td>\n",
       "      <td>69,332</td>\n",
       "      <td>35.8%</td>\n",
       "    </tr>\n",
       "    <tr>\n",
       "      <th>10</th>\n",
       "      <td>Transportation and Warehousing</td>\n",
       "      <td>24,484</td>\n",
       "      <td>58,471</td>\n",
       "      <td>41.9%</td>\n",
       "    </tr>\n",
       "    <tr>\n",
       "      <th>11</th>\n",
       "      <td>Real Estate and Rental and Leasing</td>\n",
       "      <td>15,577</td>\n",
       "      <td>23,257</td>\n",
       "      <td>67.0%</td>\n",
       "    </tr>\n",
       "    <tr>\n",
       "      <th>12</th>\n",
       "      <td>Educational Services</td>\n",
       "      <td>13,791</td>\n",
       "      <td>28,969</td>\n",
       "      <td>47.6%</td>\n",
       "    </tr>\n",
       "    <tr>\n",
       "      <th>13</th>\n",
       "      <td>Arts, Entertainment, and Recreation</td>\n",
       "      <td>11,858</td>\n",
       "      <td>17,165</td>\n",
       "      <td>69.1%</td>\n",
       "    </tr>\n",
       "    <tr>\n",
       "      <th>14</th>\n",
       "      <td>Information</td>\n",
       "      <td>9,854</td>\n",
       "      <td>34,447</td>\n",
       "      <td>28.6%</td>\n",
       "    </tr>\n",
       "    <tr>\n",
       "      <th>15</th>\n",
       "      <td>Agriculture, Forestry, Fishing and Hunting</td>\n",
       "      <td>5,622</td>\n",
       "      <td>6,356</td>\n",
       "      <td>88.5%</td>\n",
       "    </tr>\n",
       "    <tr>\n",
       "      <th>16</th>\n",
       "      <td>Mining, Quarrying, and Oil and Gas Extraction</td>\n",
       "      <td>2,650</td>\n",
       "      <td>7,942</td>\n",
       "      <td>33.4%</td>\n",
       "    </tr>\n",
       "    <tr>\n",
       "      <th>17</th>\n",
       "      <td>Utilities</td>\n",
       "      <td>2,094</td>\n",
       "      <td>17,238</td>\n",
       "      <td>12.1%</td>\n",
       "    </tr>\n",
       "    <tr>\n",
       "      <th>18</th>\n",
       "      <td>Total</td>\n",
       "      <td>761,520</td>\n",
       "      <td>1,586,323</td>\n",
       "      <td>48.0%</td>\n",
       "    </tr>\n",
       "  </tbody>\n",
       "</table>\n",
       "</div>"
      ],
      "text/plain": [
       "                                           Industry Small Business Employment  \\\n",
       "0                 Health Care and Social Assistance                   113,580   \n",
       "1                   Accommodation and Food Services                    89,707   \n",
       "2                                      Retail Trade                    87,257   \n",
       "3                                     Manufacturing                    79,632   \n",
       "4     Other Services (except Public Administration)                    68,770   \n",
       "5                                      Construction                    65,147   \n",
       "6   Professional, Scientiﬁc, and Technical Services                    57,856   \n",
       "7     Administrative, Support, and Waste Management                    44,577   \n",
       "8                                   Wholesale Trade                    44,232   \n",
       "9                             Finance and Insurance                    24,832   \n",
       "10                   Transportation and Warehousing                    24,484   \n",
       "11               Real Estate and Rental and Leasing                    15,577   \n",
       "12                             Educational Services                    13,791   \n",
       "13              Arts, Entertainment, and Recreation                    11,858   \n",
       "14                                      Information                     9,854   \n",
       "15       Agriculture, Forestry, Fishing and Hunting                     5,622   \n",
       "16    Mining, Quarrying, and Oil and Gas Extraction                     2,650   \n",
       "17                                        Utilities                     2,094   \n",
       "18                                            Total                   761,520   \n",
       "\n",
       "   Total Private Employment Small Business Emp Share  \n",
       "0                   240,549                    47.2%  \n",
       "1                   161,421                    55.6%  \n",
       "2                   222,277                    39.3%  \n",
       "3                   242,093                    32.9%  \n",
       "4                    80,073                    85.9%  \n",
       "5                    78,318                    83.2%  \n",
       "6                    92,520                    62.5%  \n",
       "7                   133,720                    33.3%  \n",
       "8                    72,175                    61.3%  \n",
       "9                    69,332                    35.8%  \n",
       "10                   58,471                    41.9%  \n",
       "11                   23,257                    67.0%  \n",
       "12                   28,969                    47.6%  \n",
       "13                   17,165                    69.1%  \n",
       "14                   34,447                    28.6%  \n",
       "15                    6,356                    88.5%  \n",
       "16                    7,942                    33.4%  \n",
       "17                   17,238                    12.1%  \n",
       "18                1,586,323                    48.0%  "
      ]
     },
     "execution_count": 32,
     "metadata": {},
     "output_type": "execute_result"
    }
   ],
   "source": [
    "columns = df.pop(0)\n",
    "pd.DataFrame(df,columns=columns)"
   ]
  }
 ],
 "metadata": {
  "kernelspec": {
   "display_name": "Python 2",
   "language": "python",
   "name": "python2"
  },
  "language_info": {
   "codemirror_mode": {
    "name": "ipython",
    "version": 2
   },
   "file_extension": ".py",
   "mimetype": "text/x-python",
   "name": "python",
   "nbconvert_exporter": "python",
   "pygments_lexer": "ipython2",
   "version": "2.7.14"
  }
 },
 "nbformat": 4,
 "nbformat_minor": 2
}
